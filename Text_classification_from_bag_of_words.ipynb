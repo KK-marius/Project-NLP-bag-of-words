{
  "nbformat": 4,
  "nbformat_minor": 0,
  "metadata": {
    "colab": {
      "provenance": [],
      "include_colab_link": true
    },
    "kernelspec": {
      "name": "python3",
      "display_name": "Python 3"
    },
    "language_info": {
      "name": "python"
    }
  },
  "cells": [
    {
      "cell_type": "markdown",
      "metadata": {
        "id": "view-in-github",
        "colab_type": "text"
      },
      "source": [
        "<a href=\"https://colab.research.google.com/github/KK-marius/Project-NLP-bag-of-words/blob/main/Text_classification_from_bag_of_words.ipynb\" target=\"_parent\"><img src=\"https://colab.research.google.com/assets/colab-badge.svg\" alt=\"Open In Colab\"/></a>"
      ]
    },
    {
      "cell_type": "markdown",
      "source": [
        "# Text Classification"
      ],
      "metadata": {
        "id": "d0by3GuJdyK1"
      }
    },
    {
      "cell_type": "markdown",
      "source": [
        "# Preliminaries"
      ],
      "metadata": {
        "id": "Zh4euV-URIsJ"
      }
    },
    {
      "cell_type": "code",
      "source": [
        "import pandas as pd\n",
        "from sklearn.metrics import accuracy_score\n",
        "from sklearn.pipeline import Pipeline"
      ],
      "metadata": {
        "id": "mtwbpQzPUI_Q"
      },
      "execution_count": null,
      "outputs": []
    },
    {
      "cell_type": "markdown",
      "source": [
        "## Dataset\n",
        "\n"
      ],
      "metadata": {
        "id": "xvqiYA6rmPZg"
      }
    },
    {
      "cell_type": "markdown",
      "source": [
        "## TO DO: Take a look at the data"
      ],
      "metadata": {
        "id": "9wyHQSf-rCFU"
      }
    },
    {
      "cell_type": "code",
      "execution_count": null,
      "metadata": {
        "id": "OmYvyPGKdqvz"
      },
      "outputs": [],
      "source": [
        "from sklearn.datasets import fetch_20newsgroups\n",
        "twenty = fetch_20newsgroups(subset='all',\n",
        "    categories=['alt.atheism', 'soc.religion.christian', 'comp.graphics', 'sci.med'],\n",
        "    shuffle=True, random_state=42)"
      ]
    },
    {
      "cell_type": "code",
      "source": [
        "twenty.target_names"
      ],
      "metadata": {
        "colab": {
          "base_uri": "https://localhost:8080/"
        },
        "id": "t2bF6a5Vj1KT",
        "outputId": "f7133119-3c9c-4144-aed9-702890312291"
      },
      "execution_count": null,
      "outputs": [
        {
          "output_type": "execute_result",
          "data": {
            "text/plain": [
              "['alt.atheism', 'comp.graphics', 'sci.med', 'soc.religion.christian']"
            ]
          },
          "metadata": {},
          "execution_count": 3
        }
      ]
    },
    {
      "cell_type": "code",
      "source": [
        "len(twenty.data)"
      ],
      "metadata": {
        "colab": {
          "base_uri": "https://localhost:8080/"
        },
        "id": "CwU7tkKFj6g1",
        "outputId": "1bbb535f-f950-4252-db8a-b148f5bafcac"
      },
      "execution_count": null,
      "outputs": [
        {
          "output_type": "execute_result",
          "data": {
            "text/plain": [
              "3759"
            ]
          },
          "metadata": {},
          "execution_count": 4
        }
      ]
    },
    {
      "cell_type": "code",
      "source": [
        "print(twenty.data[0])"
      ],
      "metadata": {
        "colab": {
          "base_uri": "https://localhost:8080/"
        },
        "id": "WqT6hKTjj6mC",
        "outputId": "7c482e3b-c355-47a5-d77d-522d89cbc31d"
      },
      "execution_count": null,
      "outputs": [
        {
          "output_type": "stream",
          "name": "stdout",
          "text": [
            "From: geb@cs.pitt.edu (Gordon Banks)\n",
            "Subject: Re: \"CAN'T BREATHE\"\n",
            "Article-I.D.: pitt.19440\n",
            "Reply-To: geb@cs.pitt.edu (Gordon Banks)\n",
            "Organization: Univ. of Pittsburgh Computer Science\n",
            "Lines: 23\n",
            "\n",
            "In article <1993Mar29.204003.26952@tijc02.uucp> pjs269@tijc02.uucp (Paul Schmidt) writes:\n",
            ">I think it is important to verify all procedures with proper studies to\n",
            ">show their worthiness and risk.  I just read an interesting tidbit that \n",
            ">80% of the medical treatments are unproven and not based on scientific \n",
            ">fact.  For example, many treatments of prostate cancer are unproven and\n",
            ">the treatment may be more dangerous than the disease (according to the\n",
            ">article I read.)\n",
            "\n",
            "Where did you read this?  I don't think this is true.  I think most\n",
            "medical treatments are based on science, although it is difficult\n",
            "to prove anything with certitude.  It is true that there are some\n",
            "things that have just been found \"to work\", but we have no good\n",
            "explanation for why.  But almost everything does have a scientific\n",
            "rationale.  The most common treatment for prostate cancer is\n",
            "probably hormone therapy.  It has been \"proven\" to work.  So have\n",
            "radiation and chemotherapy.  What treatments did the article say\n",
            "are not proven?  \n",
            "\n",
            "-- \n",
            "----------------------------------------------------------------------------\n",
            "Gordon Banks  N3JXP      | \"Skepticism is the chastity of the intellect, and\n",
            "geb@cadre.dsl.pitt.edu   |  it is shameful to surrender it too soon.\" \n",
            "----------------------------------------------------------------------------\n",
            "\n"
          ]
        }
      ]
    },
    {
      "cell_type": "code",
      "source": [
        "print(twenty.target_names[twenty.target[0]])"
      ],
      "metadata": {
        "colab": {
          "base_uri": "https://localhost:8080/"
        },
        "id": "zoz20KXYj6or",
        "outputId": "1e4219bc-8de2-4f19-b61f-a6792c6d9d0e"
      },
      "execution_count": null,
      "outputs": [
        {
          "output_type": "stream",
          "name": "stdout",
          "text": [
            "sci.med\n"
          ]
        }
      ]
    },
    {
      "cell_type": "code",
      "source": [
        "twenty.target[:10] # Affiche les 10 premiers labels (catégories) associés aux documents de l’ensemble"
      ],
      "metadata": {
        "colab": {
          "base_uri": "https://localhost:8080/"
        },
        "id": "b1eOSvnej6rP",
        "outputId": "efeb91b2-d5ca-4791-8127-53ba61df52db"
      },
      "execution_count": null,
      "outputs": [
        {
          "output_type": "execute_result",
          "data": {
            "text/plain": [
              "array([2, 3, 3, 1, 2, 3, 2, 1, 1, 1])"
            ]
          },
          "metadata": {},
          "execution_count": 7
        }
      ]
    },
    {
      "cell_type": "code",
      "source": [
        "from sklearn.model_selection import train_test_split\n",
        "X_train, X_test, y_train, y_test = train_test_split(twenty.data, twenty.target, test_size=0.2, random_state=42)"
      ],
      "metadata": {
        "id": "bkcOlvFRpHOh"
      },
      "execution_count": null,
      "outputs": []
    },
    {
      "cell_type": "markdown",
      "source": [
        "# Complete process"
      ],
      "metadata": {
        "id": "jR09o0H_RVLM"
      }
    },
    {
      "cell_type": "markdown",
      "source": [
        "## TO DO: Correct the errors"
      ],
      "metadata": {
        "id": "kZ7xISvgpdxV"
      }
    },
    {
      "cell_type": "markdown",
      "source": [
        "## Step1: extract features from text files\n"
      ],
      "metadata": {
        "id": "RKyogfSmmn0p"
      }
    },
    {
      "cell_type": "code",
      "source": [
        "from sklearn.feature_extraction.text import CountVectorizer\n",
        "\n",
        "count_vect = CountVectorizer()\n",
        "X_train_counts = count_vect.fit_transform(X_train)\n",
        "X_test_counts = count_vect.transform(X_test)\n",
        "print(X_train_counts.shape)\n",
        "\n",
        "n_token = X_train_counts.shape[1]\n",
        "tokens = {i: w for w, i in count_vect.vocabulary_.items()}\n",
        "tokens = [tokens[i] for i in range(n_token)]\n",
        "print(tokens[n_token//2:n_token//2+20])\n",
        "\n",
        "# for printing perposes\n",
        "X_train_as_pd = pd.DataFrame(X_train_counts.toarray(), columns=tokens)\n",
        "print('\"\"\"\\n', X_train[0], '\\n\"\"\"')\n",
        "X_train_as_pd[['cat', 'dog', 'it', 'itself', 'the', 'there', 'you']].head()"
      ],
      "metadata": {
        "colab": {
          "base_uri": "https://localhost:8080/",
          "height": 514
        },
        "id": "sp7hR2iQmq4-",
        "outputId": "080d77d3-2aab-4d66-e5b4-6dd690d3f1a9"
      },
      "execution_count": null,
      "outputs": [
        {
          "output_type": "stream",
          "name": "stdout",
          "text": [
            "(3007, 43366)\n",
            "['inexact', 'inexcusable', 'inexorable', 'inexorably', 'inexpensive', 'inexpensively', 'inexperienced', 'inf', 'infact', 'infalability', 'infalibility', 'infallable', 'infallibale', 'infallibility', 'infallible', 'infallibly', 'infamous', 'infamy', 'infancy', 'infant']\n",
            "\"\"\"\n",
            " From: mlee@eng.sdsu.edu (Mike Lee)\n",
            "Subject: MPEG for x-windows MONO needed.\n",
            "Organization: San Diego State University Computing Services\n",
            "Lines: 4\n",
            "NNTP-Posting-Host: eng.sdsu.edu\n",
            "X-Newsreader: TIN [version 1.1 PL9]\n",
            "\n",
            "Hello, and thank you for reading this request.  I have a Mpeg viewer for x-windows and it did not run because I was running it on a monochrome monitor.  I need the mono-driver for mpeg_play.   \n",
            "\n",
            "Please post the location of the file or better yet, e-mail me at mlee@eng.sdsu.edu.\n",
            "\n",
            " \n",
            "\"\"\"\n"
          ]
        },
        {
          "output_type": "execute_result",
          "data": {
            "text/plain": [
              "   cat  dog  it  itself  the  there  you\n",
              "0    0    0   2       0    3      0    1\n",
              "1    0    0   0       0    2      0    3\n",
              "2    0    0   7       0    7      1    2\n",
              "3    0    0   3       0   15      1   10\n",
              "4    0    0   0       0    2      0    4"
            ],
            "text/html": [
              "\n",
              "  <div id=\"df-494665f5-db02-4f20-91f3-f5b393901a20\" class=\"colab-df-container\">\n",
              "    <div>\n",
              "<style scoped>\n",
              "    .dataframe tbody tr th:only-of-type {\n",
              "        vertical-align: middle;\n",
              "    }\n",
              "\n",
              "    .dataframe tbody tr th {\n",
              "        vertical-align: top;\n",
              "    }\n",
              "\n",
              "    .dataframe thead th {\n",
              "        text-align: right;\n",
              "    }\n",
              "</style>\n",
              "<table border=\"1\" class=\"dataframe\">\n",
              "  <thead>\n",
              "    <tr style=\"text-align: right;\">\n",
              "      <th></th>\n",
              "      <th>cat</th>\n",
              "      <th>dog</th>\n",
              "      <th>it</th>\n",
              "      <th>itself</th>\n",
              "      <th>the</th>\n",
              "      <th>there</th>\n",
              "      <th>you</th>\n",
              "    </tr>\n",
              "  </thead>\n",
              "  <tbody>\n",
              "    <tr>\n",
              "      <th>0</th>\n",
              "      <td>0</td>\n",
              "      <td>0</td>\n",
              "      <td>2</td>\n",
              "      <td>0</td>\n",
              "      <td>3</td>\n",
              "      <td>0</td>\n",
              "      <td>1</td>\n",
              "    </tr>\n",
              "    <tr>\n",
              "      <th>1</th>\n",
              "      <td>0</td>\n",
              "      <td>0</td>\n",
              "      <td>0</td>\n",
              "      <td>0</td>\n",
              "      <td>2</td>\n",
              "      <td>0</td>\n",
              "      <td>3</td>\n",
              "    </tr>\n",
              "    <tr>\n",
              "      <th>2</th>\n",
              "      <td>0</td>\n",
              "      <td>0</td>\n",
              "      <td>7</td>\n",
              "      <td>0</td>\n",
              "      <td>7</td>\n",
              "      <td>1</td>\n",
              "      <td>2</td>\n",
              "    </tr>\n",
              "    <tr>\n",
              "      <th>3</th>\n",
              "      <td>0</td>\n",
              "      <td>0</td>\n",
              "      <td>3</td>\n",
              "      <td>0</td>\n",
              "      <td>15</td>\n",
              "      <td>1</td>\n",
              "      <td>10</td>\n",
              "    </tr>\n",
              "    <tr>\n",
              "      <th>4</th>\n",
              "      <td>0</td>\n",
              "      <td>0</td>\n",
              "      <td>0</td>\n",
              "      <td>0</td>\n",
              "      <td>2</td>\n",
              "      <td>0</td>\n",
              "      <td>4</td>\n",
              "    </tr>\n",
              "  </tbody>\n",
              "</table>\n",
              "</div>\n",
              "    <div class=\"colab-df-buttons\">\n",
              "\n",
              "  <div class=\"colab-df-container\">\n",
              "    <button class=\"colab-df-convert\" onclick=\"convertToInteractive('df-494665f5-db02-4f20-91f3-f5b393901a20')\"\n",
              "            title=\"Convert this dataframe to an interactive table.\"\n",
              "            style=\"display:none;\">\n",
              "\n",
              "  <svg xmlns=\"http://www.w3.org/2000/svg\" height=\"24px\" viewBox=\"0 -960 960 960\">\n",
              "    <path d=\"M120-120v-720h720v720H120Zm60-500h600v-160H180v160Zm220 220h160v-160H400v160Zm0 220h160v-160H400v160ZM180-400h160v-160H180v160Zm440 0h160v-160H620v160ZM180-180h160v-160H180v160Zm440 0h160v-160H620v160Z\"/>\n",
              "  </svg>\n",
              "    </button>\n",
              "\n",
              "  <style>\n",
              "    .colab-df-container {\n",
              "      display:flex;\n",
              "      gap: 12px;\n",
              "    }\n",
              "\n",
              "    .colab-df-convert {\n",
              "      background-color: #E8F0FE;\n",
              "      border: none;\n",
              "      border-radius: 50%;\n",
              "      cursor: pointer;\n",
              "      display: none;\n",
              "      fill: #1967D2;\n",
              "      height: 32px;\n",
              "      padding: 0 0 0 0;\n",
              "      width: 32px;\n",
              "    }\n",
              "\n",
              "    .colab-df-convert:hover {\n",
              "      background-color: #E2EBFA;\n",
              "      box-shadow: 0px 1px 2px rgba(60, 64, 67, 0.3), 0px 1px 3px 1px rgba(60, 64, 67, 0.15);\n",
              "      fill: #174EA6;\n",
              "    }\n",
              "\n",
              "    .colab-df-buttons div {\n",
              "      margin-bottom: 4px;\n",
              "    }\n",
              "\n",
              "    [theme=dark] .colab-df-convert {\n",
              "      background-color: #3B4455;\n",
              "      fill: #D2E3FC;\n",
              "    }\n",
              "\n",
              "    [theme=dark] .colab-df-convert:hover {\n",
              "      background-color: #434B5C;\n",
              "      box-shadow: 0px 1px 3px 1px rgba(0, 0, 0, 0.15);\n",
              "      filter: drop-shadow(0px 1px 2px rgba(0, 0, 0, 0.3));\n",
              "      fill: #FFFFFF;\n",
              "    }\n",
              "  </style>\n",
              "\n",
              "    <script>\n",
              "      const buttonEl =\n",
              "        document.querySelector('#df-494665f5-db02-4f20-91f3-f5b393901a20 button.colab-df-convert');\n",
              "      buttonEl.style.display =\n",
              "        google.colab.kernel.accessAllowed ? 'block' : 'none';\n",
              "\n",
              "      async function convertToInteractive(key) {\n",
              "        const element = document.querySelector('#df-494665f5-db02-4f20-91f3-f5b393901a20');\n",
              "        const dataTable =\n",
              "          await google.colab.kernel.invokeFunction('convertToInteractive',\n",
              "                                                    [key], {});\n",
              "        if (!dataTable) return;\n",
              "\n",
              "        const docLinkHtml = 'Like what you see? Visit the ' +\n",
              "          '<a target=\"_blank\" href=https://colab.research.google.com/notebooks/data_table.ipynb>data table notebook</a>'\n",
              "          + ' to learn more about interactive tables.';\n",
              "        element.innerHTML = '';\n",
              "        dataTable['output_type'] = 'display_data';\n",
              "        await google.colab.output.renderOutput(dataTable, element);\n",
              "        const docLink = document.createElement('div');\n",
              "        docLink.innerHTML = docLinkHtml;\n",
              "        element.appendChild(docLink);\n",
              "      }\n",
              "    </script>\n",
              "  </div>\n",
              "\n",
              "\n",
              "<div id=\"df-01c4ae91-1278-49db-a318-0545cf3420b0\">\n",
              "  <button class=\"colab-df-quickchart\" onclick=\"quickchart('df-01c4ae91-1278-49db-a318-0545cf3420b0')\"\n",
              "            title=\"Suggest charts\"\n",
              "            style=\"display:none;\">\n",
              "\n",
              "<svg xmlns=\"http://www.w3.org/2000/svg\" height=\"24px\"viewBox=\"0 0 24 24\"\n",
              "     width=\"24px\">\n",
              "    <g>\n",
              "        <path d=\"M19 3H5c-1.1 0-2 .9-2 2v14c0 1.1.9 2 2 2h14c1.1 0 2-.9 2-2V5c0-1.1-.9-2-2-2zM9 17H7v-7h2v7zm4 0h-2V7h2v10zm4 0h-2v-4h2v4z\"/>\n",
              "    </g>\n",
              "</svg>\n",
              "  </button>\n",
              "\n",
              "<style>\n",
              "  .colab-df-quickchart {\n",
              "      --bg-color: #E8F0FE;\n",
              "      --fill-color: #1967D2;\n",
              "      --hover-bg-color: #E2EBFA;\n",
              "      --hover-fill-color: #174EA6;\n",
              "      --disabled-fill-color: #AAA;\n",
              "      --disabled-bg-color: #DDD;\n",
              "  }\n",
              "\n",
              "  [theme=dark] .colab-df-quickchart {\n",
              "      --bg-color: #3B4455;\n",
              "      --fill-color: #D2E3FC;\n",
              "      --hover-bg-color: #434B5C;\n",
              "      --hover-fill-color: #FFFFFF;\n",
              "      --disabled-bg-color: #3B4455;\n",
              "      --disabled-fill-color: #666;\n",
              "  }\n",
              "\n",
              "  .colab-df-quickchart {\n",
              "    background-color: var(--bg-color);\n",
              "    border: none;\n",
              "    border-radius: 50%;\n",
              "    cursor: pointer;\n",
              "    display: none;\n",
              "    fill: var(--fill-color);\n",
              "    height: 32px;\n",
              "    padding: 0;\n",
              "    width: 32px;\n",
              "  }\n",
              "\n",
              "  .colab-df-quickchart:hover {\n",
              "    background-color: var(--hover-bg-color);\n",
              "    box-shadow: 0 1px 2px rgba(60, 64, 67, 0.3), 0 1px 3px 1px rgba(60, 64, 67, 0.15);\n",
              "    fill: var(--button-hover-fill-color);\n",
              "  }\n",
              "\n",
              "  .colab-df-quickchart-complete:disabled,\n",
              "  .colab-df-quickchart-complete:disabled:hover {\n",
              "    background-color: var(--disabled-bg-color);\n",
              "    fill: var(--disabled-fill-color);\n",
              "    box-shadow: none;\n",
              "  }\n",
              "\n",
              "  .colab-df-spinner {\n",
              "    border: 2px solid var(--fill-color);\n",
              "    border-color: transparent;\n",
              "    border-bottom-color: var(--fill-color);\n",
              "    animation:\n",
              "      spin 1s steps(1) infinite;\n",
              "  }\n",
              "\n",
              "  @keyframes spin {\n",
              "    0% {\n",
              "      border-color: transparent;\n",
              "      border-bottom-color: var(--fill-color);\n",
              "      border-left-color: var(--fill-color);\n",
              "    }\n",
              "    20% {\n",
              "      border-color: transparent;\n",
              "      border-left-color: var(--fill-color);\n",
              "      border-top-color: var(--fill-color);\n",
              "    }\n",
              "    30% {\n",
              "      border-color: transparent;\n",
              "      border-left-color: var(--fill-color);\n",
              "      border-top-color: var(--fill-color);\n",
              "      border-right-color: var(--fill-color);\n",
              "    }\n",
              "    40% {\n",
              "      border-color: transparent;\n",
              "      border-right-color: var(--fill-color);\n",
              "      border-top-color: var(--fill-color);\n",
              "    }\n",
              "    60% {\n",
              "      border-color: transparent;\n",
              "      border-right-color: var(--fill-color);\n",
              "    }\n",
              "    80% {\n",
              "      border-color: transparent;\n",
              "      border-right-color: var(--fill-color);\n",
              "      border-bottom-color: var(--fill-color);\n",
              "    }\n",
              "    90% {\n",
              "      border-color: transparent;\n",
              "      border-bottom-color: var(--fill-color);\n",
              "    }\n",
              "  }\n",
              "</style>\n",
              "\n",
              "  <script>\n",
              "    async function quickchart(key) {\n",
              "      const quickchartButtonEl =\n",
              "        document.querySelector('#' + key + ' button');\n",
              "      quickchartButtonEl.disabled = true;  // To prevent multiple clicks.\n",
              "      quickchartButtonEl.classList.add('colab-df-spinner');\n",
              "      try {\n",
              "        const charts = await google.colab.kernel.invokeFunction(\n",
              "            'suggestCharts', [key], {});\n",
              "      } catch (error) {\n",
              "        console.error('Error during call to suggestCharts:', error);\n",
              "      }\n",
              "      quickchartButtonEl.classList.remove('colab-df-spinner');\n",
              "      quickchartButtonEl.classList.add('colab-df-quickchart-complete');\n",
              "    }\n",
              "    (() => {\n",
              "      let quickchartButtonEl =\n",
              "        document.querySelector('#df-01c4ae91-1278-49db-a318-0545cf3420b0 button');\n",
              "      quickchartButtonEl.style.display =\n",
              "        google.colab.kernel.accessAllowed ? 'block' : 'none';\n",
              "    })();\n",
              "  </script>\n",
              "</div>\n",
              "\n",
              "    </div>\n",
              "  </div>\n"
            ],
            "application/vnd.google.colaboratory.intrinsic+json": {
              "type": "dataframe",
              "summary": "{\n  \"name\": \"X_train_as_pd[['cat', 'dog', 'it', 'itself', 'the', 'there', 'you']]\",\n  \"rows\": 5,\n  \"fields\": [\n    {\n      \"column\": \"cat\",\n      \"properties\": {\n        \"dtype\": \"number\",\n        \"std\": 0,\n        \"min\": 0,\n        \"max\": 0,\n        \"num_unique_values\": 1,\n        \"samples\": [\n          0\n        ],\n        \"semantic_type\": \"\",\n        \"description\": \"\"\n      }\n    },\n    {\n      \"column\": \"dog\",\n      \"properties\": {\n        \"dtype\": \"number\",\n        \"std\": 0,\n        \"min\": 0,\n        \"max\": 0,\n        \"num_unique_values\": 1,\n        \"samples\": [\n          0\n        ],\n        \"semantic_type\": \"\",\n        \"description\": \"\"\n      }\n    },\n    {\n      \"column\": \"it\",\n      \"properties\": {\n        \"dtype\": \"number\",\n        \"std\": 2,\n        \"min\": 0,\n        \"max\": 7,\n        \"num_unique_values\": 4,\n        \"samples\": [\n          0\n        ],\n        \"semantic_type\": \"\",\n        \"description\": \"\"\n      }\n    },\n    {\n      \"column\": \"itself\",\n      \"properties\": {\n        \"dtype\": \"number\",\n        \"std\": 0,\n        \"min\": 0,\n        \"max\": 0,\n        \"num_unique_values\": 1,\n        \"samples\": [\n          0\n        ],\n        \"semantic_type\": \"\",\n        \"description\": \"\"\n      }\n    },\n    {\n      \"column\": \"the\",\n      \"properties\": {\n        \"dtype\": \"number\",\n        \"std\": 5,\n        \"min\": 2,\n        \"max\": 15,\n        \"num_unique_values\": 4,\n        \"samples\": [\n          2\n        ],\n        \"semantic_type\": \"\",\n        \"description\": \"\"\n      }\n    },\n    {\n      \"column\": \"there\",\n      \"properties\": {\n        \"dtype\": \"number\",\n        \"std\": 0,\n        \"min\": 0,\n        \"max\": 1,\n        \"num_unique_values\": 2,\n        \"samples\": [\n          1\n        ],\n        \"semantic_type\": \"\",\n        \"description\": \"\"\n      }\n    },\n    {\n      \"column\": \"you\",\n      \"properties\": {\n        \"dtype\": \"number\",\n        \"std\": 3,\n        \"min\": 1,\n        \"max\": 10,\n        \"num_unique_values\": 5,\n        \"samples\": [\n          3\n        ],\n        \"semantic_type\": \"\",\n        \"description\": \"\"\n      }\n    }\n  ]\n}"
            }
          },
          "metadata": {},
          "execution_count": 9
        }
      ]
    },
    {
      "cell_type": "markdown",
      "source": [
        "## Step2 (v1): predict based on cos similarity\n",
        "\n",
        "We test a k-NN based on cosinus similarity. To do so, we use scikit-learn implementation of k-NN, which use L$_2$ distance between examples, and we feed it with normalized examples (the normalization is example per example). Therefore, the model look for the nearest neighbors given\n",
        "$$\\left\\|\\frac{x}{\\|x\\|}-\\frac{y}{\\|y\\|}\\right\\|\n",
        "= \\left(\\frac{\\|x\\|}{\\|x\\|}\\right)^2 + \\left(\\frac{\\|y\\|}{\\|y\\|}\\right)^2-2\\left<\\frac{x}{\\|x\\|},\\frac{y}{\\|y\\|}\\right>\n",
        "= 1 + 1 - 2 \\cos(x,y), $$\n",
        "which is equivalent to maximizing the cosinus between examples."
      ],
      "metadata": {
        "id": "Is6xYdUcZe2q"
      }
    },
    {
      "cell_type": "code",
      "source": [
        "from sklearn.neighbors import KNeighborsClassifier\n",
        "from sklearn.preprocessing import Normalizer\n",
        "\n",
        "model = Pipeline([\n",
        "    ('norm', Normalizer()),\n",
        "    ('clf', KNeighborsClassifier(n_neighbors=3)),\n",
        "])\n",
        "model.fit(X_train_counts, y_train)\n",
        "\n",
        "n_prints = 3\n",
        "for (sample, pred) in zip(X_test[:n_prints], model.predict(X_test_counts[:n_prints])):\n",
        "  print(f'\"\"\"\\nDocument : {sample[len(sample)*3//4:len(sample)*3//4+200]}\\n\"\"\"  Prediction : {twenty.target_names[pred]}')\n",
        "print(\"\\n\")\n",
        "#to heavy to compute\n",
        "print(\"Training accuracy: \", model.score(X_train_counts, y_train))\n",
        "print(\"Test accuracy: \", model.score(X_test_counts, y_test))"
      ],
      "metadata": {
        "colab": {
          "base_uri": "https://localhost:8080/"
        },
        "id": "MVBKzr5jZd8N",
        "outputId": "215b93a6-6478-42e3-cbc3-68998066be13"
      },
      "execution_count": null,
      "outputs": [
        {
          "output_type": "stream",
          "name": "stdout",
          "text": [
            "\"\"\"\n",
            "Document : y (World magazine) warned us all that it was very dangerous,\n",
            "probably to stop curious children from experimenting with it.  Mind you, this\n",
            "was 10 years ago, at least.  (And boy, does that say somethin\n",
            "\"\"\"  Prediction : sci.med\n",
            "\"\"\"\n",
            "Document : e\n",
            "that it is, is every bit as absurd as to assert \"it is not raining\" on\n",
            "a rainy day.  I take this to be a candidate for an objective value, and it\n",
            "it is a necessary condition for objective morality t\n",
            "\"\"\"  Prediction : alt.atheism\n",
            "\"\"\"\n",
            "Document :    June 1992, from the Institute for Creation Research).  This is one\n",
            "     of the most offensive articles they've ever published--but at least\n",
            "     it argues *against* a deathbed conversion.  There's \n",
            "\"\"\"  Prediction : soc.religion.christian\n",
            "\n",
            "\n",
            "Training accuracy:  0.8875956102427669\n",
            "Test accuracy:  0.7393617021276596\n"
          ]
        }
      ]
    },
    {
      "cell_type": "markdown",
      "source": [
        "Sur 100 documents du jeu de test, le modèle K-NN en classe correctement environ 74% dans la bonne catégorie."
      ],
      "metadata": {
        "id": "-niWBnqeroS9"
      }
    },
    {
      "cell_type": "markdown",
      "source": [
        "## Step2 (v2): predict based on a trained (simple) model\n"
      ],
      "metadata": {
        "id": "-sBr24wazTkq"
      }
    },
    {
      "cell_type": "code",
      "source": [
        "from sklearn.naive_bayes import MultinomialNB\n",
        "\n",
        "model = MultinomialNB().fit(X_train_counts, y_train)\n",
        "\n",
        "n_prints = 3\n",
        "for (sample, pred) in zip(X_test[:n_prints], model.predict(X_test_counts[:n_prints])):\n",
        "  print(f'\"\"\"\\nDocument : {sample[len(sample)*3//4:len(sample)*3//4+200]}\\n\"\"\"  Prediction : {twenty.target_names[pred]}')\n",
        "print(\"\\n\")\n",
        "print(\"Training accuracy: \", model.score(X_train_counts, y_train))\n",
        "print(\"Test accuracy: \", model.score(X_test_counts, y_test))"
      ],
      "metadata": {
        "colab": {
          "base_uri": "https://localhost:8080/"
        },
        "id": "bd9KRiIPqMxp",
        "outputId": "33467dbb-a106-4b78-e0c0-978d8d6e1086"
      },
      "execution_count": null,
      "outputs": [
        {
          "output_type": "stream",
          "name": "stdout",
          "text": [
            "\"\"\"\n",
            "Document : y (World magazine) warned us all that it was very dangerous,\n",
            "probably to stop curious children from experimenting with it.  Mind you, this\n",
            "was 10 years ago, at least.  (And boy, does that say somethin\n",
            "\"\"\"  Prediction : sci.med\n",
            "\"\"\"\n",
            "Document : e\n",
            "that it is, is every bit as absurd as to assert \"it is not raining\" on\n",
            "a rainy day.  I take this to be a candidate for an objective value, and it\n",
            "it is a necessary condition for objective morality t\n",
            "\"\"\"  Prediction : alt.atheism\n",
            "\"\"\"\n",
            "Document :    June 1992, from the Institute for Creation Research).  This is one\n",
            "     of the most offensive articles they've ever published--but at least\n",
            "     it argues *against* a deathbed conversion.  There's \n",
            "\"\"\"  Prediction : alt.atheism\n",
            "\n",
            "\n",
            "Training accuracy:  0.9946790821416694\n",
            "Test accuracy:  0.9720744680851063\n"
          ]
        }
      ]
    },
    {
      "cell_type": "markdown",
      "source": [
        "Les textes du jeu de test sont majoritairement classés dans la bonne catégorie 97%."
      ],
      "metadata": {
        "id": "4toKXICGt1ZD"
      }
    },
    {
      "cell_type": "markdown",
      "source": [
        "## Complete process"
      ],
      "metadata": {
        "id": "pUqNl-wT1E6O"
      }
    },
    {
      "cell_type": "code",
      "source": [
        "model1 = Pipeline([\n",
        "    ('vect', CountVectorizer()),\n",
        "    ('norm', Normalizer()),\n",
        "    ('clf', KNeighborsClassifier(n_neighbors=3)),\n",
        "])\n",
        "\n",
        "model2 = Pipeline([\n",
        "    ('vect', CountVectorizer()),\n",
        "    ('clf', MultinomialNB()),\n",
        "])\n",
        "\n",
        "for model in [model1, model2]:\n",
        "  print(f'===\\n{model.named_steps}\\n===')\n",
        "  model.fit(X_train, y_train)\n",
        "  n_prints = 3\n",
        "  for (sample, pred) in zip(X_test[:n_prints], model.predict(X_test[:n_prints])):\n",
        "    print(f'\"\"\"\\nDocument : {sample[len(sample)*3//4:len(sample)*3//4+200]}\\n\"\"\"  Prediction : {twenty.target_names[pred]}')\n",
        "  print(\"Test accuracy: \", model.score(X_test, y_test))\n",
        "  print('-'*60)"
      ],
      "metadata": {
        "colab": {
          "base_uri": "https://localhost:8080/"
        },
        "id": "YZLlVKVVqwyy",
        "outputId": "d737a4a4-52a6-41c2-f93b-008198c5e76b"
      },
      "execution_count": null,
      "outputs": [
        {
          "output_type": "stream",
          "name": "stdout",
          "text": [
            "===\n",
            "{'vect': CountVectorizer(), 'norm': Normalizer(), 'clf': KNeighborsClassifier(n_neighbors=3)}\n",
            "===\n",
            "\"\"\"\n",
            "Document : y (World magazine) warned us all that it was very dangerous,\n",
            "probably to stop curious children from experimenting with it.  Mind you, this\n",
            "was 10 years ago, at least.  (And boy, does that say somethin\n",
            "\"\"\"  Prediction : sci.med\n",
            "\"\"\"\n",
            "Document : e\n",
            "that it is, is every bit as absurd as to assert \"it is not raining\" on\n",
            "a rainy day.  I take this to be a candidate for an objective value, and it\n",
            "it is a necessary condition for objective morality t\n",
            "\"\"\"  Prediction : alt.atheism\n",
            "\"\"\"\n",
            "Document :    June 1992, from the Institute for Creation Research).  This is one\n",
            "     of the most offensive articles they've ever published--but at least\n",
            "     it argues *against* a deathbed conversion.  There's \n",
            "\"\"\"  Prediction : soc.religion.christian\n",
            "Test accuracy:  0.7393617021276596\n",
            "------------------------------------------------------------\n",
            "===\n",
            "{'vect': CountVectorizer(), 'clf': MultinomialNB()}\n",
            "===\n",
            "\"\"\"\n",
            "Document : y (World magazine) warned us all that it was very dangerous,\n",
            "probably to stop curious children from experimenting with it.  Mind you, this\n",
            "was 10 years ago, at least.  (And boy, does that say somethin\n",
            "\"\"\"  Prediction : sci.med\n",
            "\"\"\"\n",
            "Document : e\n",
            "that it is, is every bit as absurd as to assert \"it is not raining\" on\n",
            "a rainy day.  I take this to be a candidate for an objective value, and it\n",
            "it is a necessary condition for objective morality t\n",
            "\"\"\"  Prediction : alt.atheism\n",
            "\"\"\"\n",
            "Document :    June 1992, from the Institute for Creation Research).  This is one\n",
            "     of the most offensive articles they've ever published--but at least\n",
            "     it argues *against* a deathbed conversion.  There's \n",
            "\"\"\"  Prediction : alt.atheism\n",
            "Test accuracy:  0.9720744680851063\n",
            "------------------------------------------------------------\n"
          ]
        }
      ]
    },
    {
      "cell_type": "markdown",
      "source": [
        "# Variations"
      ],
      "metadata": {
        "id": "CR-WIJbO15vD"
      }
    },
    {
      "cell_type": "markdown",
      "source": [
        "## TO DO: Implement and test the following variations"
      ],
      "metadata": {
        "id": "Y_qFPWhfpbjz"
      }
    },
    {
      "cell_type": "markdown",
      "source": [
        "## tf-idf vectorization"
      ],
      "metadata": {
        "id": "iThItyXZ2CFz"
      }
    },
    {
      "cell_type": "markdown",
      "source": [
        "TF-IDF (Term Frequency – Inverse Document Frequency) pèse les mots selon leur importance dans chaque document, tout en pénalisant les mots trop fréquents dans l’ensemble des documents (souvent moins discriminants)."
      ],
      "metadata": {
        "id": "HlzZOZmtde-d"
      }
    },
    {
      "cell_type": "code",
      "source": [
        "from sklearn.feature_extraction.text import TfidfVectorizer\n",
        "from sklearn.pipeline import Pipeline\n",
        "from sklearn.naive_bayes import MultinomialNB\n",
        "\n",
        "model_tfidf1 = Pipeline([\n",
        "    ('tfidf', TfidfVectorizer()),\n",
        "    ('clf', KNeighborsClassifier(n_neighbors=3)),\n",
        "])\n",
        "\n",
        "model_tfidf2 = Pipeline([\n",
        "    ('tfidf', TfidfVectorizer()),\n",
        "    ('clf', MultinomialNB()),\n",
        "])\n",
        "\n",
        "for model in [model_tfidf1, model_tfidf2]:\n",
        "  print(f'===\\n{model.named_steps}\\n===')\n",
        "  model.fit(X_train, y_train)\n",
        "  n_prints = 2\n",
        "  for (sample, pred) in zip(X_test[:n_prints], model.predict(X_test[:n_prints])):\n",
        "    print(f'\"\"\"\\nDocument : {sample[len(sample)*3//4:len(sample)*3//4+200]}\\n\"\"\"  Prediction : {twenty.target_names[pred]}')\n",
        "  print(\"Test accuracy: \", model.score(X_test, y_test))\n",
        "  print('-'*60)"
      ],
      "metadata": {
        "colab": {
          "base_uri": "https://localhost:8080/"
        },
        "id": "sTEWAyPxYwC0",
        "outputId": "eb8e75d2-0585-41fa-e943-5cb762acc497"
      },
      "execution_count": null,
      "outputs": [
        {
          "output_type": "stream",
          "name": "stdout",
          "text": [
            "===\n",
            "{'tfidf': TfidfVectorizer(), 'clf': KNeighborsClassifier(n_neighbors=3)}\n",
            "===\n",
            "\"\"\"\n",
            "Document : y (World magazine) warned us all that it was very dangerous,\n",
            "probably to stop curious children from experimenting with it.  Mind you, this\n",
            "was 10 years ago, at least.  (And boy, does that say somethin\n",
            "\"\"\"  Prediction : sci.med\n",
            "\"\"\"\n",
            "Document : e\n",
            "that it is, is every bit as absurd as to assert \"it is not raining\" on\n",
            "a rainy day.  I take this to be a candidate for an objective value, and it\n",
            "it is a necessary condition for objective morality t\n",
            "\"\"\"  Prediction : alt.atheism\n",
            "Test accuracy:  0.8949468085106383\n",
            "------------------------------------------------------------\n",
            "===\n",
            "{'tfidf': TfidfVectorizer(), 'clf': MultinomialNB()}\n",
            "===\n",
            "\"\"\"\n",
            "Document : y (World magazine) warned us all that it was very dangerous,\n",
            "probably to stop curious children from experimenting with it.  Mind you, this\n",
            "was 10 years ago, at least.  (And boy, does that say somethin\n",
            "\"\"\"  Prediction : sci.med\n",
            "\"\"\"\n",
            "Document : e\n",
            "that it is, is every bit as absurd as to assert \"it is not raining\" on\n",
            "a rainy day.  I take this to be a candidate for an objective value, and it\n",
            "it is a necessary condition for objective morality t\n",
            "\"\"\"  Prediction : alt.atheism\n",
            "Test accuracy:  0.9002659574468085\n",
            "------------------------------------------------------------\n"
          ]
        }
      ]
    },
    {
      "cell_type": "markdown",
      "source": [
        "## Hyper-parameters of the vectorizer\n",
        "Test (separatly) the impact of\n",
        "* lowercase=False\n",
        "* stop_words='english'\n",
        "* binary=True\n",
        "* ngram_range = (1,2) et (1,3)"
      ],
      "metadata": {
        "id": "qouL001V2Bu7"
      }
    },
    {
      "cell_type": "code",
      "source": [
        "#  lowercase=False\n",
        "#  Permet de conserver la casse, ce qui peut être pertinent si des mots en majuscule ont un sens différent (acronymes, noms propres, etc.).\n",
        "\n",
        "model_tfidf1 = Pipeline([\n",
        "    ('tfidf', TfidfVectorizer(lowercase=False)),\n",
        "    ('clf', KNeighborsClassifier(n_neighbors=3)),\n",
        "])\n",
        "\n",
        "model_tfidf2 = Pipeline([\n",
        "    ('tfidf', TfidfVectorizer(lowercase=False)),\n",
        "    ('clf', MultinomialNB()),\n",
        "])\n",
        "\n",
        "for model in [model_tfidf1, model_tfidf2]:\n",
        "  print(f'===\\n{model.named_steps}\\n===')\n",
        "  model.fit(X_train, y_train)\n",
        "  n_prints = 2\n",
        "  for (sample, pred) in zip(X_test[:n_prints], model.predict(X_test[:n_prints])):\n",
        "    print(f'\"\"\"\\nDocument : {sample[len(sample)*3//4:len(sample)*3//4+200]}\\n\"\"\"  Prediction : {twenty.target_names[pred]}')\n",
        "  print(\"Test accuracy: \", model.score(X_test, y_test))\n",
        "  print('-'*60)"
      ],
      "metadata": {
        "colab": {
          "base_uri": "https://localhost:8080/"
        },
        "id": "98mU9NooeX6w",
        "outputId": "95634bb4-6124-490f-a0d0-bc4b53c52c97"
      },
      "execution_count": null,
      "outputs": [
        {
          "output_type": "stream",
          "name": "stdout",
          "text": [
            "===\n",
            "{'tfidf': TfidfVectorizer(lowercase=False), 'clf': KNeighborsClassifier(n_neighbors=3)}\n",
            "===\n",
            "\"\"\"\n",
            "Document : y (World magazine) warned us all that it was very dangerous,\n",
            "probably to stop curious children from experimenting with it.  Mind you, this\n",
            "was 10 years ago, at least.  (And boy, does that say somethin\n",
            "\"\"\"  Prediction : sci.med\n",
            "\"\"\"\n",
            "Document : e\n",
            "that it is, is every bit as absurd as to assert \"it is not raining\" on\n",
            "a rainy day.  I take this to be a candidate for an objective value, and it\n",
            "it is a necessary condition for objective morality t\n",
            "\"\"\"  Prediction : alt.atheism\n",
            "Test accuracy:  0.8962765957446809\n",
            "------------------------------------------------------------\n",
            "===\n",
            "{'tfidf': TfidfVectorizer(lowercase=False), 'clf': MultinomialNB()}\n",
            "===\n",
            "\"\"\"\n",
            "Document : y (World magazine) warned us all that it was very dangerous,\n",
            "probably to stop curious children from experimenting with it.  Mind you, this\n",
            "was 10 years ago, at least.  (And boy, does that say somethin\n",
            "\"\"\"  Prediction : sci.med\n",
            "\"\"\"\n",
            "Document : e\n",
            "that it is, is every bit as absurd as to assert \"it is not raining\" on\n",
            "a rainy day.  I take this to be a candidate for an objective value, and it\n",
            "it is a necessary condition for objective morality t\n",
            "\"\"\"  Prediction : alt.atheism\n",
            "Test accuracy:  0.8936170212765957\n",
            "------------------------------------------------------------\n"
          ]
        }
      ]
    },
    {
      "cell_type": "code",
      "source": [
        "# stop_words='english'\n",
        "# Permet de retirer automatiquement la liste de mots vides (stopwords) en anglais (ex.: “the”, “and”, “of”, etc.), qui n’apportent généralement pas de valeur discriminante.\n",
        "\n",
        "model_tfidf1 = Pipeline([\n",
        "    ('tfidf', TfidfVectorizer(stop_words='english')),\n",
        "    ('clf', KNeighborsClassifier(n_neighbors=3)),\n",
        "])\n",
        "\n",
        "model_tfidf2 = Pipeline([\n",
        "    ('tfidf', TfidfVectorizer(stop_words='english')),\n",
        "    ('clf', MultinomialNB()),\n",
        "])\n",
        "\n",
        "for model in [model_tfidf1, model_tfidf2]:\n",
        "  print(f'===\\n{model.named_steps}\\n===')\n",
        "  model.fit(X_train, y_train)\n",
        "\n",
        "  print(\"Test accuracy: \", model.score(X_test, y_test))\n",
        "  print('-'*60)"
      ],
      "metadata": {
        "colab": {
          "base_uri": "https://localhost:8080/"
        },
        "id": "56UMDNR4gYeX",
        "outputId": "f6c9f004-d7a4-4688-a9e2-85c7b2a289cb"
      },
      "execution_count": null,
      "outputs": [
        {
          "output_type": "stream",
          "name": "stdout",
          "text": [
            "===\n",
            "{'tfidf': TfidfVectorizer(stop_words='english'), 'clf': KNeighborsClassifier(n_neighbors=3)}\n",
            "===\n",
            "Test accuracy:  0.9162234042553191\n",
            "------------------------------------------------------------\n",
            "===\n",
            "{'tfidf': TfidfVectorizer(stop_words='english'), 'clf': MultinomialNB()}\n",
            "===\n",
            "Test accuracy:  0.949468085106383\n",
            "------------------------------------------------------------\n"
          ]
        }
      ]
    },
    {
      "cell_type": "code",
      "source": [
        "# binary=True\n",
        "\n",
        "model_tfidf1 = Pipeline([\n",
        "    ('tfidf', TfidfVectorizer(binary=True)),\n",
        "    ('clf', KNeighborsClassifier(n_neighbors=3)),\n",
        "])\n",
        "\n",
        "model_tfidf2 = Pipeline([\n",
        "    ('tfidf', TfidfVectorizer(binary=True)),\n",
        "    ('clf', MultinomialNB()),\n",
        "])\n",
        "\n",
        "for model in [model_tfidf1, model_tfidf2]:\n",
        "  print(f'===\\n{model.named_steps}\\n===')\n",
        "  model.fit(X_train, y_train)\n",
        "\n",
        "  print(\"Test accuracy: \", model.score(X_test, y_test))\n",
        "  print('-'*60)"
      ],
      "metadata": {
        "colab": {
          "base_uri": "https://localhost:8080/"
        },
        "id": "9qzUGkGLhDBj",
        "outputId": "e5449621-bb80-4405-d693-cf24442c5588"
      },
      "execution_count": null,
      "outputs": [
        {
          "output_type": "stream",
          "name": "stdout",
          "text": [
            "===\n",
            "{'tfidf': TfidfVectorizer(binary=True), 'clf': KNeighborsClassifier(n_neighbors=3)}\n",
            "===\n",
            "Test accuracy:  0.9375\n",
            "------------------------------------------------------------\n",
            "===\n",
            "{'tfidf': TfidfVectorizer(binary=True), 'clf': MultinomialNB()}\n",
            "===\n",
            "Test accuracy:  0.910904255319149\n",
            "------------------------------------------------------------\n"
          ]
        }
      ]
    },
    {
      "cell_type": "code",
      "source": [
        "# ngram_range=(1,2)\n",
        "\n",
        "model_tfidf1 = Pipeline([\n",
        "    ('tfidf', TfidfVectorizer(ngram_range=(1,2))),\n",
        "    ('clf', KNeighborsClassifier(n_neighbors=3)),\n",
        "])\n",
        "\n",
        "model_tfidf2 = Pipeline([\n",
        "    ('tfidf', TfidfVectorizer(ngram_range=(1,2))),\n",
        "    ('clf', MultinomialNB()),\n",
        "])\n",
        "\n",
        "for model in [model_tfidf1, model_tfidf2]:\n",
        "  print(f'===\\n{model.named_steps}\\n===')\n",
        "  model.fit(X_train, y_train)\n",
        "\n",
        "  print(\"Test accuracy: \", model.score(X_test, y_test))\n",
        "  print('-'*60)"
      ],
      "metadata": {
        "colab": {
          "base_uri": "https://localhost:8080/"
        },
        "id": "GikpWc7ih0Yz",
        "outputId": "cea49a8b-ceb2-4a08-fb0b-fa032d50ef38"
      },
      "execution_count": null,
      "outputs": [
        {
          "output_type": "stream",
          "name": "stdout",
          "text": [
            "===\n",
            "{'tfidf': TfidfVectorizer(ngram_range=(1, 2)), 'clf': KNeighborsClassifier(n_neighbors=3)}\n",
            "===\n",
            "Test accuracy:  0.9002659574468085\n",
            "------------------------------------------------------------\n",
            "===\n",
            "{'tfidf': TfidfVectorizer(ngram_range=(1, 2)), 'clf': MultinomialNB()}\n",
            "===\n",
            "Test accuracy:  0.8909574468085106\n",
            "------------------------------------------------------------\n"
          ]
        }
      ]
    },
    {
      "cell_type": "markdown",
      "source": [],
      "metadata": {
        "id": "eBXugFVUeQVx"
      }
    },
    {
      "cell_type": "markdown",
      "source": [
        "## Stemming (with a pretrained tokenizer)\n",
        "\n",
        "Take inspiration from [this page](https://jonathansoma.com/lede/algorithms-2017/classes/more-text-analysis/counting-and-stemming/)."
      ],
      "metadata": {
        "id": "IF0SmlbICiiv"
      }
    },
    {
      "cell_type": "markdown",
      "source": [
        "Le stemming consiste à réduire un mot à sa racine (“fishing”, “fishes”,“fished”→ “fish”).\n",
        "La lemmatisation est plus “linguistique” (“better” → “good”), mais nécessite un lemmatiseur spécifique (spaCy, NLTK, etc.)."
      ],
      "metadata": {
        "id": "2EyPVHl8lEZ0"
      }
    },
    {
      "cell_type": "code",
      "source": [
        "import nltk\n",
        "from nltk.stem import PorterStemmer\n",
        "from nltk.tokenize import word_tokenize\n",
        "\n",
        "# Téléchargement des ressources nécessaires pour le stemming\n",
        "nltk.download('punkt')\n",
        "nltk.download('punkt_tab')\n",
        "\n",
        "# Initialisation du stemmer\n",
        "stemmer = PorterStemmer()\n",
        "\n",
        "# Fonction pour tokenizer et appliquer le stemming\n",
        "def my_tokenizer(text):\n",
        "    \"\"\"\n",
        "    Tokenise le texte en mots, puis applique le stemming à chaque mot.\n",
        "    \"\"\"\n",
        "    tokens = word_tokenize(text)  # Tokenizer de NLTK\n",
        "    stemmed_tokens = [stemmer.stem(token) for token in tokens]  # Appliquer le stemming\n",
        "    return ' '.join(stemmed_tokens)"
      ],
      "metadata": {
        "colab": {
          "base_uri": "https://localhost:8080/"
        },
        "id": "RChC_cEfmYBk",
        "outputId": "3e7b2021-0277-40b9-d4ce-8c07efb7619f"
      },
      "execution_count": null,
      "outputs": [
        {
          "output_type": "stream",
          "name": "stderr",
          "text": [
            "[nltk_data] Downloading package punkt to /root/nltk_data...\n",
            "[nltk_data]   Package punkt is already up-to-date!\n",
            "[nltk_data] Downloading package punkt_tab to /root/nltk_data...\n",
            "[nltk_data]   Unzipping tokenizers/punkt_tab.zip.\n"
          ]
        }
      ]
    },
    {
      "cell_type": "code",
      "source": [
        "# Instanciation de vectorizer (TF-IDF ou Count) en lui passant ce tokenizer\n",
        "# vectorizer = TfidfVectorizer(tokenizer=my_tokenizer, stop_words='english')"
      ],
      "metadata": {
        "id": "V6lcwKpKHg2w"
      },
      "execution_count": null,
      "outputs": []
    },
    {
      "cell_type": "code",
      "source": [
        "# Transformation des données d’entraînement et de test en vecteurs\n",
        "X_train_stemmed = [my_tokenizer(doc) for doc in X_train]\n",
        "X_test_stemmed = [my_tokenizer(doc) for doc in X_test]"
      ],
      "metadata": {
        "id": "pzHgclElMAU8"
      },
      "execution_count": null,
      "outputs": []
    },
    {
      "cell_type": "code",
      "source": [
        "# Vectorisation avec CountVectorizer (ou TF-IDF si vous préférez)\n",
        "vectorizer = CountVectorizer()\n",
        "X_train_stemmed_counts = vectorizer.fit_transform(X_train_stemmed)\n",
        "X_test_stemmed_counts = vectorizer.transform(X_test_stemmed)"
      ],
      "metadata": {
        "id": "bZBIZWnNQN0G"
      },
      "execution_count": null,
      "outputs": []
    },
    {
      "cell_type": "code",
      "source": [
        "# Entraînement du modèle (Naive Bayes, SVM, etc.) sur ces vecteurs\n",
        "model_stemmed = MultinomialNB()\n",
        "model_stemmed.fit(X_train_stemmed_counts, y_train)"
      ],
      "metadata": {
        "colab": {
          "base_uri": "https://localhost:8080/",
          "height": 80
        },
        "id": "bUM-EOhGNJCc",
        "outputId": "900bfaeb-322c-485c-a1ba-24a37be85d95"
      },
      "execution_count": null,
      "outputs": [
        {
          "output_type": "execute_result",
          "data": {
            "text/plain": [
              "MultinomialNB()"
            ],
            "text/html": [
              "<style>#sk-container-id-2 {\n",
              "  /* Definition of color scheme common for light and dark mode */\n",
              "  --sklearn-color-text: #000;\n",
              "  --sklearn-color-text-muted: #666;\n",
              "  --sklearn-color-line: gray;\n",
              "  /* Definition of color scheme for unfitted estimators */\n",
              "  --sklearn-color-unfitted-level-0: #fff5e6;\n",
              "  --sklearn-color-unfitted-level-1: #f6e4d2;\n",
              "  --sklearn-color-unfitted-level-2: #ffe0b3;\n",
              "  --sklearn-color-unfitted-level-3: chocolate;\n",
              "  /* Definition of color scheme for fitted estimators */\n",
              "  --sklearn-color-fitted-level-0: #f0f8ff;\n",
              "  --sklearn-color-fitted-level-1: #d4ebff;\n",
              "  --sklearn-color-fitted-level-2: #b3dbfd;\n",
              "  --sklearn-color-fitted-level-3: cornflowerblue;\n",
              "\n",
              "  /* Specific color for light theme */\n",
              "  --sklearn-color-text-on-default-background: var(--sg-text-color, var(--theme-code-foreground, var(--jp-content-font-color1, black)));\n",
              "  --sklearn-color-background: var(--sg-background-color, var(--theme-background, var(--jp-layout-color0, white)));\n",
              "  --sklearn-color-border-box: var(--sg-text-color, var(--theme-code-foreground, var(--jp-content-font-color1, black)));\n",
              "  --sklearn-color-icon: #696969;\n",
              "\n",
              "  @media (prefers-color-scheme: dark) {\n",
              "    /* Redefinition of color scheme for dark theme */\n",
              "    --sklearn-color-text-on-default-background: var(--sg-text-color, var(--theme-code-foreground, var(--jp-content-font-color1, white)));\n",
              "    --sklearn-color-background: var(--sg-background-color, var(--theme-background, var(--jp-layout-color0, #111)));\n",
              "    --sklearn-color-border-box: var(--sg-text-color, var(--theme-code-foreground, var(--jp-content-font-color1, white)));\n",
              "    --sklearn-color-icon: #878787;\n",
              "  }\n",
              "}\n",
              "\n",
              "#sk-container-id-2 {\n",
              "  color: var(--sklearn-color-text);\n",
              "}\n",
              "\n",
              "#sk-container-id-2 pre {\n",
              "  padding: 0;\n",
              "}\n",
              "\n",
              "#sk-container-id-2 input.sk-hidden--visually {\n",
              "  border: 0;\n",
              "  clip: rect(1px 1px 1px 1px);\n",
              "  clip: rect(1px, 1px, 1px, 1px);\n",
              "  height: 1px;\n",
              "  margin: -1px;\n",
              "  overflow: hidden;\n",
              "  padding: 0;\n",
              "  position: absolute;\n",
              "  width: 1px;\n",
              "}\n",
              "\n",
              "#sk-container-id-2 div.sk-dashed-wrapped {\n",
              "  border: 1px dashed var(--sklearn-color-line);\n",
              "  margin: 0 0.4em 0.5em 0.4em;\n",
              "  box-sizing: border-box;\n",
              "  padding-bottom: 0.4em;\n",
              "  background-color: var(--sklearn-color-background);\n",
              "}\n",
              "\n",
              "#sk-container-id-2 div.sk-container {\n",
              "  /* jupyter's `normalize.less` sets `[hidden] { display: none; }`\n",
              "     but bootstrap.min.css set `[hidden] { display: none !important; }`\n",
              "     so we also need the `!important` here to be able to override the\n",
              "     default hidden behavior on the sphinx rendered scikit-learn.org.\n",
              "     See: https://github.com/scikit-learn/scikit-learn/issues/21755 */\n",
              "  display: inline-block !important;\n",
              "  position: relative;\n",
              "}\n",
              "\n",
              "#sk-container-id-2 div.sk-text-repr-fallback {\n",
              "  display: none;\n",
              "}\n",
              "\n",
              "div.sk-parallel-item,\n",
              "div.sk-serial,\n",
              "div.sk-item {\n",
              "  /* draw centered vertical line to link estimators */\n",
              "  background-image: linear-gradient(var(--sklearn-color-text-on-default-background), var(--sklearn-color-text-on-default-background));\n",
              "  background-size: 2px 100%;\n",
              "  background-repeat: no-repeat;\n",
              "  background-position: center center;\n",
              "}\n",
              "\n",
              "/* Parallel-specific style estimator block */\n",
              "\n",
              "#sk-container-id-2 div.sk-parallel-item::after {\n",
              "  content: \"\";\n",
              "  width: 100%;\n",
              "  border-bottom: 2px solid var(--sklearn-color-text-on-default-background);\n",
              "  flex-grow: 1;\n",
              "}\n",
              "\n",
              "#sk-container-id-2 div.sk-parallel {\n",
              "  display: flex;\n",
              "  align-items: stretch;\n",
              "  justify-content: center;\n",
              "  background-color: var(--sklearn-color-background);\n",
              "  position: relative;\n",
              "}\n",
              "\n",
              "#sk-container-id-2 div.sk-parallel-item {\n",
              "  display: flex;\n",
              "  flex-direction: column;\n",
              "}\n",
              "\n",
              "#sk-container-id-2 div.sk-parallel-item:first-child::after {\n",
              "  align-self: flex-end;\n",
              "  width: 50%;\n",
              "}\n",
              "\n",
              "#sk-container-id-2 div.sk-parallel-item:last-child::after {\n",
              "  align-self: flex-start;\n",
              "  width: 50%;\n",
              "}\n",
              "\n",
              "#sk-container-id-2 div.sk-parallel-item:only-child::after {\n",
              "  width: 0;\n",
              "}\n",
              "\n",
              "/* Serial-specific style estimator block */\n",
              "\n",
              "#sk-container-id-2 div.sk-serial {\n",
              "  display: flex;\n",
              "  flex-direction: column;\n",
              "  align-items: center;\n",
              "  background-color: var(--sklearn-color-background);\n",
              "  padding-right: 1em;\n",
              "  padding-left: 1em;\n",
              "}\n",
              "\n",
              "\n",
              "/* Toggleable style: style used for estimator/Pipeline/ColumnTransformer box that is\n",
              "clickable and can be expanded/collapsed.\n",
              "- Pipeline and ColumnTransformer use this feature and define the default style\n",
              "- Estimators will overwrite some part of the style using the `sk-estimator` class\n",
              "*/\n",
              "\n",
              "/* Pipeline and ColumnTransformer style (default) */\n",
              "\n",
              "#sk-container-id-2 div.sk-toggleable {\n",
              "  /* Default theme specific background. It is overwritten whether we have a\n",
              "  specific estimator or a Pipeline/ColumnTransformer */\n",
              "  background-color: var(--sklearn-color-background);\n",
              "}\n",
              "\n",
              "/* Toggleable label */\n",
              "#sk-container-id-2 label.sk-toggleable__label {\n",
              "  cursor: pointer;\n",
              "  display: flex;\n",
              "  width: 100%;\n",
              "  margin-bottom: 0;\n",
              "  padding: 0.5em;\n",
              "  box-sizing: border-box;\n",
              "  text-align: center;\n",
              "  align-items: start;\n",
              "  justify-content: space-between;\n",
              "  gap: 0.5em;\n",
              "}\n",
              "\n",
              "#sk-container-id-2 label.sk-toggleable__label .caption {\n",
              "  font-size: 0.6rem;\n",
              "  font-weight: lighter;\n",
              "  color: var(--sklearn-color-text-muted);\n",
              "}\n",
              "\n",
              "#sk-container-id-2 label.sk-toggleable__label-arrow:before {\n",
              "  /* Arrow on the left of the label */\n",
              "  content: \"▸\";\n",
              "  float: left;\n",
              "  margin-right: 0.25em;\n",
              "  color: var(--sklearn-color-icon);\n",
              "}\n",
              "\n",
              "#sk-container-id-2 label.sk-toggleable__label-arrow:hover:before {\n",
              "  color: var(--sklearn-color-text);\n",
              "}\n",
              "\n",
              "/* Toggleable content - dropdown */\n",
              "\n",
              "#sk-container-id-2 div.sk-toggleable__content {\n",
              "  max-height: 0;\n",
              "  max-width: 0;\n",
              "  overflow: hidden;\n",
              "  text-align: left;\n",
              "  /* unfitted */\n",
              "  background-color: var(--sklearn-color-unfitted-level-0);\n",
              "}\n",
              "\n",
              "#sk-container-id-2 div.sk-toggleable__content.fitted {\n",
              "  /* fitted */\n",
              "  background-color: var(--sklearn-color-fitted-level-0);\n",
              "}\n",
              "\n",
              "#sk-container-id-2 div.sk-toggleable__content pre {\n",
              "  margin: 0.2em;\n",
              "  border-radius: 0.25em;\n",
              "  color: var(--sklearn-color-text);\n",
              "  /* unfitted */\n",
              "  background-color: var(--sklearn-color-unfitted-level-0);\n",
              "}\n",
              "\n",
              "#sk-container-id-2 div.sk-toggleable__content.fitted pre {\n",
              "  /* unfitted */\n",
              "  background-color: var(--sklearn-color-fitted-level-0);\n",
              "}\n",
              "\n",
              "#sk-container-id-2 input.sk-toggleable__control:checked~div.sk-toggleable__content {\n",
              "  /* Expand drop-down */\n",
              "  max-height: 200px;\n",
              "  max-width: 100%;\n",
              "  overflow: auto;\n",
              "}\n",
              "\n",
              "#sk-container-id-2 input.sk-toggleable__control:checked~label.sk-toggleable__label-arrow:before {\n",
              "  content: \"▾\";\n",
              "}\n",
              "\n",
              "/* Pipeline/ColumnTransformer-specific style */\n",
              "\n",
              "#sk-container-id-2 div.sk-label input.sk-toggleable__control:checked~label.sk-toggleable__label {\n",
              "  color: var(--sklearn-color-text);\n",
              "  background-color: var(--sklearn-color-unfitted-level-2);\n",
              "}\n",
              "\n",
              "#sk-container-id-2 div.sk-label.fitted input.sk-toggleable__control:checked~label.sk-toggleable__label {\n",
              "  background-color: var(--sklearn-color-fitted-level-2);\n",
              "}\n",
              "\n",
              "/* Estimator-specific style */\n",
              "\n",
              "/* Colorize estimator box */\n",
              "#sk-container-id-2 div.sk-estimator input.sk-toggleable__control:checked~label.sk-toggleable__label {\n",
              "  /* unfitted */\n",
              "  background-color: var(--sklearn-color-unfitted-level-2);\n",
              "}\n",
              "\n",
              "#sk-container-id-2 div.sk-estimator.fitted input.sk-toggleable__control:checked~label.sk-toggleable__label {\n",
              "  /* fitted */\n",
              "  background-color: var(--sklearn-color-fitted-level-2);\n",
              "}\n",
              "\n",
              "#sk-container-id-2 div.sk-label label.sk-toggleable__label,\n",
              "#sk-container-id-2 div.sk-label label {\n",
              "  /* The background is the default theme color */\n",
              "  color: var(--sklearn-color-text-on-default-background);\n",
              "}\n",
              "\n",
              "/* On hover, darken the color of the background */\n",
              "#sk-container-id-2 div.sk-label:hover label.sk-toggleable__label {\n",
              "  color: var(--sklearn-color-text);\n",
              "  background-color: var(--sklearn-color-unfitted-level-2);\n",
              "}\n",
              "\n",
              "/* Label box, darken color on hover, fitted */\n",
              "#sk-container-id-2 div.sk-label.fitted:hover label.sk-toggleable__label.fitted {\n",
              "  color: var(--sklearn-color-text);\n",
              "  background-color: var(--sklearn-color-fitted-level-2);\n",
              "}\n",
              "\n",
              "/* Estimator label */\n",
              "\n",
              "#sk-container-id-2 div.sk-label label {\n",
              "  font-family: monospace;\n",
              "  font-weight: bold;\n",
              "  display: inline-block;\n",
              "  line-height: 1.2em;\n",
              "}\n",
              "\n",
              "#sk-container-id-2 div.sk-label-container {\n",
              "  text-align: center;\n",
              "}\n",
              "\n",
              "/* Estimator-specific */\n",
              "#sk-container-id-2 div.sk-estimator {\n",
              "  font-family: monospace;\n",
              "  border: 1px dotted var(--sklearn-color-border-box);\n",
              "  border-radius: 0.25em;\n",
              "  box-sizing: border-box;\n",
              "  margin-bottom: 0.5em;\n",
              "  /* unfitted */\n",
              "  background-color: var(--sklearn-color-unfitted-level-0);\n",
              "}\n",
              "\n",
              "#sk-container-id-2 div.sk-estimator.fitted {\n",
              "  /* fitted */\n",
              "  background-color: var(--sklearn-color-fitted-level-0);\n",
              "}\n",
              "\n",
              "/* on hover */\n",
              "#sk-container-id-2 div.sk-estimator:hover {\n",
              "  /* unfitted */\n",
              "  background-color: var(--sklearn-color-unfitted-level-2);\n",
              "}\n",
              "\n",
              "#sk-container-id-2 div.sk-estimator.fitted:hover {\n",
              "  /* fitted */\n",
              "  background-color: var(--sklearn-color-fitted-level-2);\n",
              "}\n",
              "\n",
              "/* Specification for estimator info (e.g. \"i\" and \"?\") */\n",
              "\n",
              "/* Common style for \"i\" and \"?\" */\n",
              "\n",
              ".sk-estimator-doc-link,\n",
              "a:link.sk-estimator-doc-link,\n",
              "a:visited.sk-estimator-doc-link {\n",
              "  float: right;\n",
              "  font-size: smaller;\n",
              "  line-height: 1em;\n",
              "  font-family: monospace;\n",
              "  background-color: var(--sklearn-color-background);\n",
              "  border-radius: 1em;\n",
              "  height: 1em;\n",
              "  width: 1em;\n",
              "  text-decoration: none !important;\n",
              "  margin-left: 0.5em;\n",
              "  text-align: center;\n",
              "  /* unfitted */\n",
              "  border: var(--sklearn-color-unfitted-level-1) 1pt solid;\n",
              "  color: var(--sklearn-color-unfitted-level-1);\n",
              "}\n",
              "\n",
              ".sk-estimator-doc-link.fitted,\n",
              "a:link.sk-estimator-doc-link.fitted,\n",
              "a:visited.sk-estimator-doc-link.fitted {\n",
              "  /* fitted */\n",
              "  border: var(--sklearn-color-fitted-level-1) 1pt solid;\n",
              "  color: var(--sklearn-color-fitted-level-1);\n",
              "}\n",
              "\n",
              "/* On hover */\n",
              "div.sk-estimator:hover .sk-estimator-doc-link:hover,\n",
              ".sk-estimator-doc-link:hover,\n",
              "div.sk-label-container:hover .sk-estimator-doc-link:hover,\n",
              ".sk-estimator-doc-link:hover {\n",
              "  /* unfitted */\n",
              "  background-color: var(--sklearn-color-unfitted-level-3);\n",
              "  color: var(--sklearn-color-background);\n",
              "  text-decoration: none;\n",
              "}\n",
              "\n",
              "div.sk-estimator.fitted:hover .sk-estimator-doc-link.fitted:hover,\n",
              ".sk-estimator-doc-link.fitted:hover,\n",
              "div.sk-label-container:hover .sk-estimator-doc-link.fitted:hover,\n",
              ".sk-estimator-doc-link.fitted:hover {\n",
              "  /* fitted */\n",
              "  background-color: var(--sklearn-color-fitted-level-3);\n",
              "  color: var(--sklearn-color-background);\n",
              "  text-decoration: none;\n",
              "}\n",
              "\n",
              "/* Span, style for the box shown on hovering the info icon */\n",
              ".sk-estimator-doc-link span {\n",
              "  display: none;\n",
              "  z-index: 9999;\n",
              "  position: relative;\n",
              "  font-weight: normal;\n",
              "  right: .2ex;\n",
              "  padding: .5ex;\n",
              "  margin: .5ex;\n",
              "  width: min-content;\n",
              "  min-width: 20ex;\n",
              "  max-width: 50ex;\n",
              "  color: var(--sklearn-color-text);\n",
              "  box-shadow: 2pt 2pt 4pt #999;\n",
              "  /* unfitted */\n",
              "  background: var(--sklearn-color-unfitted-level-0);\n",
              "  border: .5pt solid var(--sklearn-color-unfitted-level-3);\n",
              "}\n",
              "\n",
              ".sk-estimator-doc-link.fitted span {\n",
              "  /* fitted */\n",
              "  background: var(--sklearn-color-fitted-level-0);\n",
              "  border: var(--sklearn-color-fitted-level-3);\n",
              "}\n",
              "\n",
              ".sk-estimator-doc-link:hover span {\n",
              "  display: block;\n",
              "}\n",
              "\n",
              "/* \"?\"-specific style due to the `<a>` HTML tag */\n",
              "\n",
              "#sk-container-id-2 a.estimator_doc_link {\n",
              "  float: right;\n",
              "  font-size: 1rem;\n",
              "  line-height: 1em;\n",
              "  font-family: monospace;\n",
              "  background-color: var(--sklearn-color-background);\n",
              "  border-radius: 1rem;\n",
              "  height: 1rem;\n",
              "  width: 1rem;\n",
              "  text-decoration: none;\n",
              "  /* unfitted */\n",
              "  color: var(--sklearn-color-unfitted-level-1);\n",
              "  border: var(--sklearn-color-unfitted-level-1) 1pt solid;\n",
              "}\n",
              "\n",
              "#sk-container-id-2 a.estimator_doc_link.fitted {\n",
              "  /* fitted */\n",
              "  border: var(--sklearn-color-fitted-level-1) 1pt solid;\n",
              "  color: var(--sklearn-color-fitted-level-1);\n",
              "}\n",
              "\n",
              "/* On hover */\n",
              "#sk-container-id-2 a.estimator_doc_link:hover {\n",
              "  /* unfitted */\n",
              "  background-color: var(--sklearn-color-unfitted-level-3);\n",
              "  color: var(--sklearn-color-background);\n",
              "  text-decoration: none;\n",
              "}\n",
              "\n",
              "#sk-container-id-2 a.estimator_doc_link.fitted:hover {\n",
              "  /* fitted */\n",
              "  background-color: var(--sklearn-color-fitted-level-3);\n",
              "}\n",
              "</style><div id=\"sk-container-id-2\" class=\"sk-top-container\"><div class=\"sk-text-repr-fallback\"><pre>MultinomialNB()</pre><b>In a Jupyter environment, please rerun this cell to show the HTML representation or trust the notebook. <br />On GitHub, the HTML representation is unable to render, please try loading this page with nbviewer.org.</b></div><div class=\"sk-container\" hidden><div class=\"sk-item\"><div class=\"sk-estimator fitted sk-toggleable\"><input class=\"sk-toggleable__control sk-hidden--visually\" id=\"sk-estimator-id-2\" type=\"checkbox\" checked><label for=\"sk-estimator-id-2\" class=\"sk-toggleable__label fitted sk-toggleable__label-arrow\"><div><div>MultinomialNB</div></div><div><a class=\"sk-estimator-doc-link fitted\" rel=\"noreferrer\" target=\"_blank\" href=\"https://scikit-learn.org/1.6/modules/generated/sklearn.naive_bayes.MultinomialNB.html\">?<span>Documentation for MultinomialNB</span></a><span class=\"sk-estimator-doc-link fitted\">i<span>Fitted</span></span></div></label><div class=\"sk-toggleable__content fitted\"><pre>MultinomialNB()</pre></div> </div></div></div></div>"
            ]
          },
          "metadata": {},
          "execution_count": 36
        }
      ]
    },
    {
      "cell_type": "code",
      "source": [
        "accuracy_stemmed = model_stemmed.score(X_test_stemmed_counts, y_test)\n",
        "print(f\"Précision après Stemming (CountVectorizer + Naive Bayes) : {accuracy_stemmed:.4f}\")"
      ],
      "metadata": {
        "colab": {
          "base_uri": "https://localhost:8080/"
        },
        "id": "ViLmG_n-OIds",
        "outputId": "9120f88b-14e2-4780-f773-afa03b550e5c"
      },
      "execution_count": null,
      "outputs": [
        {
          "output_type": "stream",
          "name": "stdout",
          "text": [
            "Précision après Stemming (CountVectorizer + Naive Bayes) : 0.9668\n"
          ]
        }
      ]
    },
    {
      "cell_type": "markdown",
      "source": [
        "## Another ML algorithm"
      ],
      "metadata": {
        "id": "1yBLNAZH2B8c"
      }
    },
    {
      "cell_type": "code",
      "source": [
        "from sklearn.linear_model import LogisticRegression\n",
        "\n",
        "model_lr = Pipeline([\n",
        "    ('vect', TfidfVectorizer()),\n",
        "    ('clf', LogisticRegression(max_iter=1000)),\n",
        "])\n",
        "model_lr.fit(X_train, y_train)\n",
        "print(\"LR Test accuracy:\", model_lr.score(X_test, y_test))"
      ],
      "metadata": {
        "colab": {
          "base_uri": "https://localhost:8080/"
        },
        "id": "VUD8j3ugSBS6",
        "outputId": "934c55a5-8d12-4cce-d8f5-127e3247abe4"
      },
      "execution_count": null,
      "outputs": [
        {
          "output_type": "stream",
          "name": "stdout",
          "text": [
            "LR Test accuracy: 0.9521276595744681\n"
          ]
        }
      ]
    }
  ]
}